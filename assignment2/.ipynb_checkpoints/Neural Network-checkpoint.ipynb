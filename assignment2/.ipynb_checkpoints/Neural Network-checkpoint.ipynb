{
 "cells": [
  {
   "cell_type": "markdown",
   "metadata": {},
   "source": [
    "# Задание 2.1 - Нейронные сети\n",
    "\n",
    "В этом задании вы реализуете и натренируете настоящую нейроную сеть своими руками!\n",
    "\n",
    "В некотором смысле это будет расширением прошлого задания - нам нужно просто составить несколько линейных классификаторов вместе!\n",
    "\n",
    "<img src=\"https://i.redd.it/n9fgba8b0qr01.png\" alt=\"Stack_more_layers\" width=\"400px\"/>"
   ]
  },
  {
   "cell_type": "code",
   "execution_count": 1,
   "metadata": {},
   "outputs": [],
   "source": [
    "import numpy as np\n",
    "import matplotlib.pyplot as plt\n",
    "\n",
    "%matplotlib inline\n",
    "\n",
    "%load_ext autoreload\n",
    "%autoreload 2"
   ]
  },
  {
   "cell_type": "code",
   "execution_count": 2,
   "metadata": {},
   "outputs": [],
   "source": [
    "from dataset import load_svhn, random_split_train_val\n",
    "from gradient_check import check_layer_gradient, check_layer_param_gradient, check_model_gradient\n",
    "from layers import FullyConnectedLayer, ReLULayer\n",
    "from model import TwoLayerNet\n",
    "from trainer import Trainer, Dataset\n",
    "from optim import SGD, MomentumSGD\n",
    "from metrics import multiclass_accuracy"
   ]
  },
  {
   "cell_type": "markdown",
   "metadata": {},
   "source": [
    "# Загружаем данные\n",
    "\n",
    "И разделяем их на training и validation."
   ]
  },
  {
   "cell_type": "code",
   "execution_count": 3,
   "metadata": {},
   "outputs": [
    {
     "name": "stderr",
     "output_type": "stream",
     "text": [
      "/var/folders/n3/rc0k_vzs5ln66jll2sd1t7wh0000gn/T/ipykernel_28337/2810386256.py:2: DeprecationWarning: `np.float` is a deprecated alias for the builtin `float`. To silence this warning, use `float` by itself. Doing this will not modify any behavior and is safe. If you specifically wanted the numpy scalar type, use `np.float64` here.\n",
      "Deprecated in NumPy 1.20; for more details and guidance: https://numpy.org/devdocs/release/1.20.0-notes.html#deprecations\n",
      "  train_flat = train_X.reshape(train_X.shape[0], -1).astype(np.float) / 255.0\n",
      "/var/folders/n3/rc0k_vzs5ln66jll2sd1t7wh0000gn/T/ipykernel_28337/2810386256.py:3: DeprecationWarning: `np.float` is a deprecated alias for the builtin `float`. To silence this warning, use `float` by itself. Doing this will not modify any behavior and is safe. If you specifically wanted the numpy scalar type, use `np.float64` here.\n",
      "Deprecated in NumPy 1.20; for more details and guidance: https://numpy.org/devdocs/release/1.20.0-notes.html#deprecations\n",
      "  test_flat = test_X.reshape(test_X.shape[0], -1).astype(np.float) / 255.0\n"
     ]
    }
   ],
   "source": [
    "def prepare_for_neural_network(train_X, test_X):\n",
    "    train_flat = train_X.reshape(train_X.shape[0], -1).astype(np.float) / 255.0\n",
    "    test_flat = test_X.reshape(test_X.shape[0], -1).astype(np.float) / 255.0\n",
    "    \n",
    "    # Subtract mean\n",
    "    mean_image = np.mean(train_flat, axis = 0)\n",
    "    train_flat -= mean_image\n",
    "    test_flat -= mean_image\n",
    "    \n",
    "    return train_flat, test_flat\n",
    "    \n",
    "train_X, train_y, test_X, test_y = load_svhn(\"data\", max_train=10000, max_test=1000)    \n",
    "train_X, test_X = prepare_for_neural_network(train_X, test_X)\n",
    "# Split train into train and val\n",
    "train_X, train_y, val_X, val_y = random_split_train_val(train_X, train_y, num_val = 1000)"
   ]
  },
  {
   "cell_type": "markdown",
   "metadata": {},
   "source": [
    "# Как всегда, начинаем с кирпичиков\n",
    "\n",
    "Мы будем реализовывать необходимые нам слои по очереди. Каждый слой должен реализовать:\n",
    "- прямой проход (forward pass), который генерирует выход слоя по входу и запоминает необходимые данные\n",
    "- обратный проход (backward pass), который получает градиент по выходу слоя и вычисляет градиент по входу и по параметрам\n",
    "\n",
    "Начнем с ReLU, у которого параметров нет."
   ]
  },
  {
   "cell_type": "code",
   "execution_count": 4,
   "metadata": {
    "scrolled": false
   },
   "outputs": [
    {
     "name": "stdout",
     "output_type": "stream",
     "text": [
      "Gradient check passed!\n"
     ]
    }
   ],
   "source": [
    "# TODO: Implement ReLULayer layer in layers.py\n",
    "# Note: you'll need to copy implementation of the gradient_check function from the previous assignment\n",
    "# Done\n",
    "\n",
    "X = np.array([[1,-2,3],\n",
    "              [-1, 2, 0.1]\n",
    "              ])\n",
    "\n",
    "assert check_layer_gradient(ReLULayer(), X)"
   ]
  },
  {
   "cell_type": "markdown",
   "metadata": {},
   "source": [
    "А теперь реализуем полносвязный слой (fully connected layer), у которого будет два массива параметров: W (weights) и B (bias).\n",
    "\n",
    "Все параметры наши слои будут использовать для параметров специальный класс `Param`, в котором будут храниться значения параметров и градиенты этих параметров, вычисляемые во время обратного прохода.\n",
    "\n",
    "Это даст возможность аккумулировать (суммировать) градиенты из разных частей функции потерь, например, из cross-entropy loss и regularization loss."
   ]
  },
  {
   "cell_type": "code",
   "execution_count": 5,
   "metadata": {},
   "outputs": [
    {
     "name": "stdout",
     "output_type": "stream",
     "text": [
      "Gradient check passed!\n",
      "Gradient check passed!\n",
      "Gradient check passed!\n"
     ]
    }
   ],
   "source": [
    "# TODO: Implement FullyConnected layer forward and backward methods\n",
    "# Done\n",
    "assert check_layer_gradient(FullyConnectedLayer(3, 4), X)\n",
    "# TODO: Implement storing gradients for W and B\n",
    "# Done\n",
    "assert check_layer_param_gradient(FullyConnectedLayer(3, 4), X, 'W')\n",
    "assert check_layer_param_gradient(FullyConnectedLayer(3, 4), X, 'B')"
   ]
  },
  {
   "cell_type": "markdown",
   "metadata": {},
   "source": [
    "## Создаем нейронную сеть\n",
    "\n",
    "Теперь мы реализуем простейшую нейронную сеть с двумя полносвязным слоями и нелинейностью ReLU. Реализуйте функцию `compute_loss_and_gradients`, она должна запустить прямой и обратный проход через оба слоя для вычисления градиентов.\n",
    "\n",
    "Не забудьте реализовать очистку градиентов в начале функции."
   ]
  },
  {
   "cell_type": "code",
   "execution_count": 13,
   "metadata": {},
   "outputs": [
    {
     "name": "stdout",
     "output_type": "stream",
     "text": [
      "Checking gradient for W1\n",
      "Gradient check passed!\n",
      "Checking gradient for B1\n",
      "Gradient check passed!\n",
      "Checking gradient for W2\n",
      "Gradient check passed!\n",
      "Checking gradient for B2\n",
      "Gradient check passed!\n"
     ]
    },
    {
     "data": {
      "text/plain": [
       "True"
      ]
     },
     "execution_count": 13,
     "metadata": {},
     "output_type": "execute_result"
    }
   ],
   "source": [
    "# TODO: In model.py, implement compute_loss_and_gradients function\n",
    "# Done\n",
    "model = TwoLayerNet(n_input = train_X.shape[1], n_output = 10, hidden_layer_size = 3, reg = 0)\n",
    "loss = model.compute_loss_and_gradients(train_X[:2], train_y[:2])\n",
    "\n",
    "# TODO Now implement backward pass and aggregate all of the params\n",
    "# Done\n",
    "check_model_gradient(model, train_X[:2], train_y[:2])"
   ]
  },
  {
   "cell_type": "markdown",
   "metadata": {},
   "source": [
    "Теперь добавьте к модели регуляризацию - она должна прибавляться к loss и делать свой вклад в градиенты."
   ]
  },
  {
   "cell_type": "code",
   "execution_count": 14,
   "metadata": {},
   "outputs": [
    {
     "name": "stdout",
     "output_type": "stream",
     "text": [
      "Checking gradient for W1\n",
      "Gradient check passed!\n",
      "Checking gradient for B1\n",
      "Gradient check passed!\n",
      "Checking gradient for W2\n",
      "Gradient check passed!\n",
      "Checking gradient for B2\n",
      "Gradient check passed!\n"
     ]
    },
    {
     "data": {
      "text/plain": [
       "True"
      ]
     },
     "execution_count": 14,
     "metadata": {},
     "output_type": "execute_result"
    }
   ],
   "source": [
    "# TODO Now implement l2 regularization in the forward and backward pass\n",
    "# Done\n",
    "model_with_reg = TwoLayerNet(n_input = train_X.shape[1], n_output = 10, hidden_layer_size = 3, reg = 1e1)\n",
    "loss_with_reg = model_with_reg.compute_loss_and_gradients(train_X[:2], train_y[:2])\n",
    "assert loss_with_reg > loss and not np.isclose(loss_with_reg, loss), \\\n",
    "    \"Loss with regularization (%2.4f) should be higher than without it (%2.4f)!\" % (loss, loss_with_reg)\n",
    "\n",
    "check_model_gradient(model_with_reg, train_X[:2], train_y[:2])"
   ]
  },
  {
   "cell_type": "markdown",
   "metadata": {},
   "source": [
    "Также реализуем функцию предсказания (вычисления значения) модели на новых данных.\n",
    "\n",
    "Какое значение точности мы ожидаем увидеть до начала тренировки?"
   ]
  },
  {
   "cell_type": "code",
   "execution_count": 31,
   "metadata": {},
   "outputs": [
    {
     "data": {
      "text/plain": [
       "0.16666666666666666"
      ]
     },
     "execution_count": 31,
     "metadata": {},
     "output_type": "execute_result"
    }
   ],
   "source": [
    "# Finally, implement predict function!\n",
    "\n",
    "# TODO: Implement predict function\n",
    "# What would be the value we expect?\n",
    "# Done\n",
    "multiclass_accuracy(model_with_reg.predict(train_X[:30]), train_y[:30]) "
   ]
  },
  {
   "cell_type": "markdown",
   "metadata": {},
   "source": [
    "# Допишем код для процесса тренировки\n",
    "\n",
    "Если все реализовано корректно, значение функции ошибки должно уменьшаться с каждой эпохой, пусть и медленно. Не беспокойтесь пока про validation accuracy."
   ]
  },
  {
   "cell_type": "code",
   "execution_count": 32,
   "metadata": {},
   "outputs": [
    {
     "name": "stdout",
     "output_type": "stream",
     "text": [
      "Epoch 1, loss: 2.320001, train accuracy: 0.196667, val accuracy: 0.206000\n",
      "Epoch 2, loss: 2.301891, train accuracy: 0.196667, val accuracy: 0.206000\n",
      "Epoch 3, loss: 2.301884, train accuracy: 0.196667, val accuracy: 0.206000\n",
      "Epoch 4, loss: 2.301873, train accuracy: 0.196667, val accuracy: 0.206000\n",
      "Epoch 5, loss: 2.301876, train accuracy: 0.196667, val accuracy: 0.206000\n",
      "Epoch 6, loss: 2.301879, train accuracy: 0.196667, val accuracy: 0.206000\n",
      "Epoch 7, loss: 2.301896, train accuracy: 0.196667, val accuracy: 0.206000\n",
      "Epoch 8, loss: 2.301876, train accuracy: 0.196667, val accuracy: 0.206000\n",
      "Epoch 9, loss: 2.301893, train accuracy: 0.196667, val accuracy: 0.206000\n",
      "Epoch 10, loss: 2.301887, train accuracy: 0.196667, val accuracy: 0.206000\n",
      "Epoch 11, loss: 2.301884, train accuracy: 0.196667, val accuracy: 0.206000\n",
      "Epoch 12, loss: 2.301876, train accuracy: 0.196667, val accuracy: 0.206000\n",
      "Epoch 13, loss: 2.301887, train accuracy: 0.196667, val accuracy: 0.206000\n",
      "Epoch 14, loss: 2.301884, train accuracy: 0.196667, val accuracy: 0.206000\n",
      "Epoch 15, loss: 2.301895, train accuracy: 0.196667, val accuracy: 0.206000\n",
      "Epoch 16, loss: 2.301885, train accuracy: 0.196667, val accuracy: 0.206000\n",
      "Epoch 17, loss: 2.301883, train accuracy: 0.196667, val accuracy: 0.206000\n",
      "Epoch 18, loss: 2.301898, train accuracy: 0.196667, val accuracy: 0.206000\n",
      "Epoch 19, loss: 2.301875, train accuracy: 0.196667, val accuracy: 0.206000\n",
      "Epoch 20, loss: 2.301890, train accuracy: 0.196667, val accuracy: 0.206000\n"
     ]
    }
   ],
   "source": [
    "model = TwoLayerNet(n_input = train_X.shape[1], n_output = 10, hidden_layer_size = 100, reg = 1e1)\n",
    "dataset = Dataset(train_X, train_y, val_X, val_y)\n",
    "trainer = Trainer(model, dataset, SGD(), learning_rate = 1e-2)\n",
    "\n",
    "# TODO Implement missing pieces in Trainer.fit function\n",
    "# You should expect loss to go down every epoch, even if it's slow\n",
    "loss_history, train_history, val_history = trainer.fit()"
   ]
  },
  {
   "cell_type": "code",
   "execution_count": 36,
   "metadata": {},
   "outputs": [],
   "source": [
    "plt.plot(train_history)\n",
    "plt.plot(val_history)"
   ]
  },
  {
   "cell_type": "markdown",
   "metadata": {},
   "source": [
    "# Улучшаем процесс тренировки\n",
    "\n",
    "Мы реализуем несколько ключевых оптимизаций, необходимых для тренировки современных нейросетей."
   ]
  },
  {
   "cell_type": "markdown",
   "metadata": {},
   "source": [
    "## Уменьшение скорости обучения (learning rate decay)\n",
    "\n",
    "Одна из необходимых оптимизаций во время тренировки нейронных сетей - постепенное уменьшение скорости обучения по мере тренировки.\n",
    "\n",
    "Один из стандартных методов - уменьшение скорости обучения (learning rate) каждые N эпох на коэффициент d (часто называемый decay). Значения N и d, как всегда, являются гиперпараметрами и должны подбираться на основе эффективности на проверочных данных (validation data). \n",
    "\n",
    "В нашем случае N будет равным 1."
   ]
  },
  {
   "cell_type": "code",
   "execution_count": 35,
   "metadata": {},
   "outputs": [
    {
     "name": "stdout",
     "output_type": "stream",
     "text": [
      "Epoch 1, loss: 2.290610, train accuracy: 0.196667, val accuracy: 0.206000\n",
      "Epoch 2, loss: 2.269078, train accuracy: 0.196667, val accuracy: 0.206000\n",
      "Epoch 3, loss: 2.263781, train accuracy: 0.196667, val accuracy: 0.206000\n",
      "Epoch 4, loss: 2.261145, train accuracy: 0.196667, val accuracy: 0.206000\n",
      "Epoch 5, loss: 2.258856, train accuracy: 0.196667, val accuracy: 0.206000\n",
      "Epoch 6, loss: 2.257002, train accuracy: 0.196667, val accuracy: 0.206000\n",
      "Epoch 7, loss: 2.255838, train accuracy: 0.196667, val accuracy: 0.206000\n",
      "Epoch 8, loss: 2.255067, train accuracy: 0.196667, val accuracy: 0.206000\n",
      "Epoch 9, loss: 2.254631, train accuracy: 0.196667, val accuracy: 0.206000\n",
      "Epoch 10, loss: 2.254321, train accuracy: 0.196667, val accuracy: 0.206000\n",
      "Epoch 11, loss: 2.254145, train accuracy: 0.196667, val accuracy: 0.206000\n",
      "Epoch 12, loss: 2.253836, train accuracy: 0.196667, val accuracy: 0.206000\n",
      "Epoch 13, loss: 2.253693, train accuracy: 0.196667, val accuracy: 0.206000\n",
      "Epoch 14, loss: 2.253459, train accuracy: 0.196667, val accuracy: 0.206000\n",
      "Epoch 15, loss: 2.253216, train accuracy: 0.196667, val accuracy: 0.206000\n",
      "Epoch 16, loss: 2.252938, train accuracy: 0.196667, val accuracy: 0.206000\n",
      "Epoch 17, loss: 2.252474, train accuracy: 0.196667, val accuracy: 0.206000\n",
      "Epoch 18, loss: 2.252029, train accuracy: 0.196667, val accuracy: 0.206000\n",
      "Epoch 19, loss: 2.251139, train accuracy: 0.196667, val accuracy: 0.206000\n",
      "Epoch 20, loss: 2.249937, train accuracy: 0.196667, val accuracy: 0.206000\n"
     ]
    }
   ],
   "source": [
    "# TODO Implement learning rate decay inside Trainer.fit method\n",
    "# Decay should happen once per epoch\n",
    "\n",
    "model = TwoLayerNet(n_input = train_X.shape[1], n_output = 10, hidden_layer_size = 100, reg = 1e-1)\n",
    "dataset = Dataset(train_X, train_y, val_X, val_y)\n",
    "trainer = Trainer(model, dataset, SGD(), learning_rate_decay=0.99)\n",
    "\n",
    "initial_learning_rate = trainer.learning_rate\n",
    "loss_history, train_history, val_history = trainer.fit()\n",
    "\n",
    "assert trainer.learning_rate < initial_learning_rate, \"Learning rate should've been reduced\"\n",
    "assert trainer.learning_rate > 0.5*initial_learning_rate, \"Learning rate shouldn'tve been reduced that much!\""
   ]
  },
  {
   "cell_type": "markdown",
   "metadata": {},
   "source": [
    "# Накопление импульса (Momentum SGD)\n",
    "\n",
    "Другой большой класс оптимизаций - использование более эффективных методов градиентного спуска. Мы реализуем один из них - накопление импульса (Momentum SGD).\n",
    "\n",
    "Этот метод хранит скорость движения, использует градиент для ее изменения на каждом шаге, и изменяет веса пропорционально значению скорости.\n",
    "(Физическая аналогия: Вместо скорости градиенты теперь будут задавать ускорение, но будет присутствовать сила трения.)\n",
    "\n",
    "```\n",
    "velocity = momentum * velocity - learning_rate * gradient \n",
    "w = w + velocity\n",
    "```\n",
    "\n",
    "`momentum` здесь коэффициент затухания, который тоже является гиперпараметром (к счастью, для него часто есть хорошее значение по умолчанию, типичный диапазон -- 0.8-0.99).\n",
    "\n",
    "Несколько полезных ссылок, где метод разбирается более подробно:  \n",
    "http://cs231n.github.io/neural-networks-3/#sgd  \n",
    "https://distill.pub/2017/momentum/"
   ]
  },
  {
   "cell_type": "code",
   "execution_count": 38,
   "metadata": {},
   "outputs": [
    {
     "name": "stdout",
     "output_type": "stream",
     "text": [
      "Epoch 1, loss: 2.314097, train accuracy: 0.196667, val accuracy: 0.206000\n",
      "Epoch 2, loss: 2.306514, train accuracy: 0.196667, val accuracy: 0.206000\n",
      "Epoch 3, loss: 2.300148, train accuracy: 0.196667, val accuracy: 0.206000\n",
      "Epoch 4, loss: 2.294796, train accuracy: 0.196667, val accuracy: 0.206000\n",
      "Epoch 5, loss: 2.290296, train accuracy: 0.196667, val accuracy: 0.206000\n",
      "Epoch 6, loss: 2.286500, train accuracy: 0.196667, val accuracy: 0.206000\n",
      "Epoch 7, loss: 2.283282, train accuracy: 0.196667, val accuracy: 0.206000\n",
      "Epoch 8, loss: 2.280553, train accuracy: 0.196667, val accuracy: 0.206000\n",
      "Epoch 9, loss: 2.278230, train accuracy: 0.196667, val accuracy: 0.206000\n",
      "Epoch 10, loss: 2.276249, train accuracy: 0.196667, val accuracy: 0.206000\n",
      "Epoch 11, loss: 2.274549, train accuracy: 0.196667, val accuracy: 0.206000\n",
      "Epoch 12, loss: 2.273087, train accuracy: 0.196667, val accuracy: 0.206000\n",
      "Epoch 13, loss: 2.271828, train accuracy: 0.196667, val accuracy: 0.206000\n",
      "Epoch 14, loss: 2.270736, train accuracy: 0.196667, val accuracy: 0.206000\n",
      "Epoch 15, loss: 2.269783, train accuracy: 0.196667, val accuracy: 0.206000\n",
      "Epoch 16, loss: 2.268951, train accuracy: 0.196667, val accuracy: 0.206000\n",
      "Epoch 17, loss: 2.268216, train accuracy: 0.196667, val accuracy: 0.206000\n",
      "Epoch 18, loss: 2.267566, train accuracy: 0.196667, val accuracy: 0.206000\n",
      "Epoch 19, loss: 2.266988, train accuracy: 0.196667, val accuracy: 0.206000\n",
      "Epoch 20, loss: 2.266470, train accuracy: 0.196667, val accuracy: 0.206000\n"
     ]
    }
   ],
   "source": [
    "# TODO: Implement MomentumSGD.update function in optim.py\n",
    "\n",
    "model = TwoLayerNet(n_input = train_X.shape[1], n_output = 10, hidden_layer_size = 100, reg = 1e-1)\n",
    "dataset = Dataset(train_X, train_y, val_X, val_y)\n",
    "trainer = Trainer(model, dataset, MomentumSGD(), learning_rate=1e-4, learning_rate_decay=0.99)\n",
    "\n",
    "# You should see even better results than before!\n",
    "loss_history, train_history, val_history = trainer.fit()"
   ]
  },
  {
   "cell_type": "markdown",
   "metadata": {},
   "source": [
    "# Ну что, давайте уже тренировать сеть!"
   ]
  },
  {
   "cell_type": "markdown",
   "metadata": {},
   "source": [
    "## Последний тест - переобучимся (overfit) на маленьком наборе данных\n",
    "\n",
    "Хороший способ проверить, все ли реализовано корректно - переобучить сеть на маленьком наборе данных.  \n",
    "Наша модель обладает достаточной мощностью, чтобы приблизить маленький набор данных идеально, поэтому мы ожидаем, что на нем мы быстро дойдем до 100% точности на тренировочном наборе. \n",
    "\n",
    "Если этого не происходит, то где-то была допущена ошибка!"
   ]
  },
  {
   "cell_type": "code",
   "execution_count": 61,
   "metadata": {},
   "outputs": [
    {
     "name": "stdout",
     "output_type": "stream",
     "text": [
      "Epoch 1, loss: 2.321096, train accuracy: 0.200000, val accuracy: 0.066667\n",
      "Epoch 2, loss: 2.309684, train accuracy: 0.200000, val accuracy: 0.066667\n",
      "Epoch 3, loss: 2.298008, train accuracy: 0.333333, val accuracy: 0.066667\n",
      "Epoch 4, loss: 2.288348, train accuracy: 0.266667, val accuracy: 0.000000\n",
      "Epoch 5, loss: 2.281775, train accuracy: 0.266667, val accuracy: 0.000000\n",
      "Epoch 6, loss: 2.269475, train accuracy: 0.266667, val accuracy: 0.000000\n",
      "Epoch 7, loss: 2.255200, train accuracy: 0.266667, val accuracy: 0.000000\n",
      "Epoch 8, loss: 2.233219, train accuracy: 0.266667, val accuracy: 0.000000\n",
      "Epoch 9, loss: 2.176926, train accuracy: 0.400000, val accuracy: 0.000000\n",
      "Epoch 10, loss: 2.103371, train accuracy: 0.400000, val accuracy: 0.000000\n",
      "Epoch 11, loss: 2.004368, train accuracy: 0.400000, val accuracy: 0.000000\n",
      "Epoch 12, loss: 1.955721, train accuracy: 0.400000, val accuracy: 0.000000\n",
      "Epoch 13, loss: 1.884039, train accuracy: 0.333333, val accuracy: 0.000000\n",
      "Epoch 14, loss: 1.817941, train accuracy: 0.333333, val accuracy: 0.000000\n",
      "Epoch 15, loss: 1.765364, train accuracy: 0.400000, val accuracy: 0.000000\n",
      "Epoch 16, loss: 1.738305, train accuracy: 0.400000, val accuracy: 0.000000\n",
      "Epoch 17, loss: 1.700878, train accuracy: 0.400000, val accuracy: 0.000000\n",
      "Epoch 18, loss: 1.705722, train accuracy: 0.400000, val accuracy: 0.000000\n",
      "Epoch 19, loss: 1.674520, train accuracy: 0.466667, val accuracy: 0.066667\n",
      "Epoch 20, loss: 1.635517, train accuracy: 0.466667, val accuracy: 0.000000\n",
      "Epoch 21, loss: 1.622347, train accuracy: 0.466667, val accuracy: 0.000000\n",
      "Epoch 22, loss: 1.662648, train accuracy: 0.400000, val accuracy: 0.000000\n",
      "Epoch 23, loss: 1.638737, train accuracy: 0.466667, val accuracy: 0.000000\n",
      "Epoch 24, loss: 1.586666, train accuracy: 0.466667, val accuracy: 0.000000\n",
      "Epoch 25, loss: 1.538351, train accuracy: 0.466667, val accuracy: 0.066667\n",
      "Epoch 26, loss: 1.575403, train accuracy: 0.466667, val accuracy: 0.066667\n",
      "Epoch 27, loss: 1.524925, train accuracy: 0.533333, val accuracy: 0.066667\n",
      "Epoch 28, loss: 1.462931, train accuracy: 0.533333, val accuracy: 0.066667\n",
      "Epoch 29, loss: 1.420079, train accuracy: 0.600000, val accuracy: 0.066667\n",
      "Epoch 30, loss: 1.400515, train accuracy: 0.600000, val accuracy: 0.066667\n",
      "Epoch 31, loss: 1.401628, train accuracy: 0.600000, val accuracy: 0.066667\n",
      "Epoch 32, loss: 1.379734, train accuracy: 0.666667, val accuracy: 0.066667\n",
      "Epoch 33, loss: 1.349902, train accuracy: 0.666667, val accuracy: 0.066667\n",
      "Epoch 34, loss: 1.342755, train accuracy: 0.666667, val accuracy: 0.066667\n",
      "Epoch 35, loss: 1.320074, train accuracy: 0.733333, val accuracy: 0.066667\n",
      "Epoch 36, loss: 1.303293, train accuracy: 0.733333, val accuracy: 0.066667\n",
      "Epoch 37, loss: 1.279594, train accuracy: 0.733333, val accuracy: 0.066667\n",
      "Epoch 38, loss: 1.245713, train accuracy: 0.800000, val accuracy: 0.066667\n",
      "Epoch 39, loss: 1.224734, train accuracy: 0.733333, val accuracy: 0.066667\n",
      "Epoch 40, loss: 1.215117, train accuracy: 0.800000, val accuracy: 0.066667\n",
      "Epoch 41, loss: 1.171277, train accuracy: 0.800000, val accuracy: 0.066667\n",
      "Epoch 42, loss: 1.152790, train accuracy: 0.733333, val accuracy: 0.133333\n",
      "Epoch 43, loss: 1.135258, train accuracy: 0.800000, val accuracy: 0.066667\n",
      "Epoch 44, loss: 1.125939, train accuracy: 0.733333, val accuracy: 0.066667\n",
      "Epoch 45, loss: 1.083387, train accuracy: 0.733333, val accuracy: 0.066667\n",
      "Epoch 46, loss: 1.096764, train accuracy: 0.733333, val accuracy: 0.133333\n",
      "Epoch 47, loss: 1.080188, train accuracy: 0.733333, val accuracy: 0.066667\n",
      "Epoch 48, loss: 1.070505, train accuracy: 0.733333, val accuracy: 0.066667\n",
      "Epoch 49, loss: 1.046855, train accuracy: 0.733333, val accuracy: 0.066667\n",
      "Epoch 50, loss: 1.042262, train accuracy: 0.733333, val accuracy: 0.066667\n",
      "Epoch 51, loss: 1.029278, train accuracy: 0.800000, val accuracy: 0.066667\n",
      "Epoch 52, loss: 1.030124, train accuracy: 0.733333, val accuracy: 0.066667\n",
      "Epoch 53, loss: 1.029708, train accuracy: 0.866667, val accuracy: 0.066667\n",
      "Epoch 54, loss: 1.022580, train accuracy: 0.866667, val accuracy: 0.066667\n",
      "Epoch 55, loss: 1.014311, train accuracy: 0.933333, val accuracy: 0.066667\n",
      "Epoch 56, loss: 1.017566, train accuracy: 0.933333, val accuracy: 0.066667\n",
      "Epoch 57, loss: 1.019009, train accuracy: 0.933333, val accuracy: 0.066667\n",
      "Epoch 58, loss: 1.002969, train accuracy: 0.933333, val accuracy: 0.066667\n",
      "Epoch 59, loss: 0.985643, train accuracy: 0.933333, val accuracy: 0.066667\n",
      "Epoch 60, loss: 0.993988, train accuracy: 0.933333, val accuracy: 0.066667\n",
      "Epoch 61, loss: 0.973764, train accuracy: 0.933333, val accuracy: 0.066667\n",
      "Epoch 62, loss: 0.965890, train accuracy: 0.933333, val accuracy: 0.066667\n",
      "Epoch 63, loss: 0.962155, train accuracy: 1.000000, val accuracy: 0.066667\n",
      "Epoch 64, loss: 0.942670, train accuracy: 1.000000, val accuracy: 0.066667\n",
      "Epoch 65, loss: 0.945814, train accuracy: 0.933333, val accuracy: 0.066667\n",
      "Epoch 66, loss: 0.918627, train accuracy: 1.000000, val accuracy: 0.066667\n",
      "Epoch 67, loss: 0.918940, train accuracy: 0.933333, val accuracy: 0.066667\n",
      "Epoch 68, loss: 0.904670, train accuracy: 1.000000, val accuracy: 0.066667\n",
      "Epoch 69, loss: 0.888678, train accuracy: 1.000000, val accuracy: 0.066667\n",
      "Epoch 70, loss: 0.869975, train accuracy: 1.000000, val accuracy: 0.000000\n",
      "Epoch 71, loss: 0.862976, train accuracy: 1.000000, val accuracy: 0.000000\n",
      "Epoch 72, loss: 0.860945, train accuracy: 1.000000, val accuracy: 0.000000\n",
      "Epoch 73, loss: 0.843187, train accuracy: 1.000000, val accuracy: 0.000000\n",
      "Epoch 74, loss: 0.832747, train accuracy: 1.000000, val accuracy: 0.000000\n",
      "Epoch 75, loss: 0.829074, train accuracy: 1.000000, val accuracy: 0.000000\n",
      "Epoch 76, loss: 0.831729, train accuracy: 1.000000, val accuracy: 0.000000\n",
      "Epoch 77, loss: 0.821689, train accuracy: 1.000000, val accuracy: 0.000000\n",
      "Epoch 78, loss: 0.815404, train accuracy: 1.000000, val accuracy: 0.000000\n",
      "Epoch 79, loss: 0.816353, train accuracy: 1.000000, val accuracy: 0.000000\n",
      "Epoch 80, loss: 0.805616, train accuracy: 1.000000, val accuracy: 0.000000\n",
      "Epoch 81, loss: 0.810432, train accuracy: 1.000000, val accuracy: 0.000000\n",
      "Epoch 82, loss: 0.804380, train accuracy: 1.000000, val accuracy: 0.000000\n",
      "Epoch 83, loss: 0.799048, train accuracy: 1.000000, val accuracy: 0.000000\n",
      "Epoch 84, loss: 0.797017, train accuracy: 1.000000, val accuracy: 0.000000\n",
      "Epoch 85, loss: 0.796150, train accuracy: 1.000000, val accuracy: 0.000000\n",
      "Epoch 86, loss: 0.799377, train accuracy: 1.000000, val accuracy: 0.000000\n",
      "Epoch 87, loss: 0.799533, train accuracy: 1.000000, val accuracy: 0.000000\n",
      "Epoch 88, loss: 0.793016, train accuracy: 1.000000, val accuracy: 0.000000\n",
      "Epoch 89, loss: 0.789067, train accuracy: 1.000000, val accuracy: 0.000000\n",
      "Epoch 90, loss: 0.787186, train accuracy: 1.000000, val accuracy: 0.000000\n",
      "Epoch 91, loss: 0.783911, train accuracy: 1.000000, val accuracy: 0.000000\n",
      "Epoch 92, loss: 0.790624, train accuracy: 1.000000, val accuracy: 0.000000\n",
      "Epoch 93, loss: 0.783427, train accuracy: 1.000000, val accuracy: 0.000000\n",
      "Epoch 94, loss: 0.784334, train accuracy: 1.000000, val accuracy: 0.000000\n",
      "Epoch 95, loss: 0.780928, train accuracy: 1.000000, val accuracy: 0.000000\n",
      "Epoch 96, loss: 0.784242, train accuracy: 1.000000, val accuracy: 0.000000\n",
      "Epoch 97, loss: 0.784436, train accuracy: 1.000000, val accuracy: 0.000000\n",
      "Epoch 98, loss: 0.778206, train accuracy: 1.000000, val accuracy: 0.000000\n",
      "Epoch 99, loss: 0.781705, train accuracy: 1.000000, val accuracy: 0.000000\n",
      "Epoch 100, loss: 0.777394, train accuracy: 1.000000, val accuracy: 0.000000\n",
      "Epoch 101, loss: 0.773771, train accuracy: 1.000000, val accuracy: 0.000000\n",
      "Epoch 102, loss: 0.775954, train accuracy: 1.000000, val accuracy: 0.000000\n",
      "Epoch 103, loss: 0.775525, train accuracy: 1.000000, val accuracy: 0.000000\n",
      "Epoch 104, loss: 0.778411, train accuracy: 1.000000, val accuracy: 0.000000\n",
      "Epoch 105, loss: 0.773220, train accuracy: 1.000000, val accuracy: 0.000000\n",
      "Epoch 106, loss: 0.773264, train accuracy: 1.000000, val accuracy: 0.000000\n",
      "Epoch 107, loss: 0.770020, train accuracy: 1.000000, val accuracy: 0.000000\n",
      "Epoch 108, loss: 0.773298, train accuracy: 1.000000, val accuracy: 0.000000\n",
      "Epoch 109, loss: 0.768055, train accuracy: 1.000000, val accuracy: 0.000000\n",
      "Epoch 110, loss: 0.771201, train accuracy: 1.000000, val accuracy: 0.000000\n",
      "Epoch 111, loss: 0.770686, train accuracy: 1.000000, val accuracy: 0.000000\n",
      "Epoch 112, loss: 0.769185, train accuracy: 1.000000, val accuracy: 0.000000\n",
      "Epoch 113, loss: 0.771653, train accuracy: 1.000000, val accuracy: 0.000000\n",
      "Epoch 114, loss: 0.772371, train accuracy: 1.000000, val accuracy: 0.000000\n",
      "Epoch 115, loss: 0.767625, train accuracy: 1.000000, val accuracy: 0.000000\n",
      "Epoch 116, loss: 0.768257, train accuracy: 1.000000, val accuracy: 0.000000\n",
      "Epoch 117, loss: 0.767901, train accuracy: 1.000000, val accuracy: 0.000000\n",
      "Epoch 118, loss: 0.766014, train accuracy: 1.000000, val accuracy: 0.000000\n",
      "Epoch 119, loss: 0.762432, train accuracy: 1.000000, val accuracy: 0.000000\n",
      "Epoch 120, loss: 0.767863, train accuracy: 1.000000, val accuracy: 0.000000\n"
     ]
    },
    {
     "name": "stdout",
     "output_type": "stream",
     "text": [
      "Epoch 121, loss: 0.763296, train accuracy: 1.000000, val accuracy: 0.000000\n",
      "Epoch 122, loss: 0.763023, train accuracy: 1.000000, val accuracy: 0.000000\n",
      "Epoch 123, loss: 0.770353, train accuracy: 1.000000, val accuracy: 0.000000\n",
      "Epoch 124, loss: 0.761338, train accuracy: 1.000000, val accuracy: 0.000000\n",
      "Epoch 125, loss: 0.762737, train accuracy: 1.000000, val accuracy: 0.000000\n",
      "Epoch 126, loss: 0.765124, train accuracy: 1.000000, val accuracy: 0.000000\n",
      "Epoch 127, loss: 0.761682, train accuracy: 1.000000, val accuracy: 0.000000\n",
      "Epoch 128, loss: 0.762443, train accuracy: 1.000000, val accuracy: 0.000000\n",
      "Epoch 129, loss: 0.763601, train accuracy: 1.000000, val accuracy: 0.000000\n",
      "Epoch 130, loss: 0.760982, train accuracy: 1.000000, val accuracy: 0.000000\n",
      "Epoch 131, loss: 0.758997, train accuracy: 1.000000, val accuracy: 0.000000\n",
      "Epoch 132, loss: 0.756451, train accuracy: 1.000000, val accuracy: 0.000000\n",
      "Epoch 133, loss: 0.761690, train accuracy: 1.000000, val accuracy: 0.000000\n",
      "Epoch 134, loss: 0.764332, train accuracy: 1.000000, val accuracy: 0.000000\n",
      "Epoch 135, loss: 0.760183, train accuracy: 1.000000, val accuracy: 0.000000\n",
      "Epoch 136, loss: 0.758673, train accuracy: 1.000000, val accuracy: 0.000000\n",
      "Epoch 137, loss: 0.766581, train accuracy: 1.000000, val accuracy: 0.000000\n",
      "Epoch 138, loss: 0.760220, train accuracy: 1.000000, val accuracy: 0.000000\n",
      "Epoch 139, loss: 0.757169, train accuracy: 1.000000, val accuracy: 0.000000\n",
      "Epoch 140, loss: 0.760920, train accuracy: 1.000000, val accuracy: 0.000000\n",
      "Epoch 141, loss: 0.757238, train accuracy: 1.000000, val accuracy: 0.000000\n",
      "Epoch 142, loss: 0.758211, train accuracy: 1.000000, val accuracy: 0.000000\n",
      "Epoch 143, loss: 0.756542, train accuracy: 1.000000, val accuracy: 0.000000\n",
      "Epoch 144, loss: 0.758994, train accuracy: 1.000000, val accuracy: 0.000000\n",
      "Epoch 145, loss: 0.757403, train accuracy: 1.000000, val accuracy: 0.000000\n",
      "Epoch 146, loss: 0.755152, train accuracy: 1.000000, val accuracy: 0.000000\n",
      "Epoch 147, loss: 0.755910, train accuracy: 1.000000, val accuracy: 0.000000\n",
      "Epoch 148, loss: 0.759213, train accuracy: 1.000000, val accuracy: 0.000000\n",
      "Epoch 149, loss: 0.756542, train accuracy: 1.000000, val accuracy: 0.000000\n",
      "Epoch 150, loss: 0.760760, train accuracy: 1.000000, val accuracy: 0.000000\n"
     ]
    }
   ],
   "source": [
    "data_size = 15\n",
    "model = TwoLayerNet(n_input = train_X.shape[1], n_output = 10, hidden_layer_size = 100, reg = 1e-1)\n",
    "dataset = Dataset(train_X[:data_size], train_y[:data_size], val_X[:data_size], val_y[:data_size])\n",
    "trainer = Trainer(model, dataset, SGD(), learning_rate=1e-1, num_epochs=150, batch_size=5)\n",
    "\n",
    "# You should expect this to reach 1.0 training accuracy \n",
    "loss_history, train_history, val_history = trainer.fit()"
   ]
  },
  {
   "cell_type": "markdown",
   "metadata": {},
   "source": [
    "Теперь найдем гипепараметры, для которых этот процесс сходится быстрее.\n",
    "Если все реализовано корректно, то существуют параметры, при которых процесс сходится в **20** эпох или еще быстрее.\n",
    "Найдите их!"
   ]
  },
  {
   "cell_type": "code",
   "execution_count": 55,
   "metadata": {},
   "outputs": [
    {
     "name": "stdout",
     "output_type": "stream",
     "text": [
      "Epoch 1, loss: 2.309255, train accuracy: 0.200000, val accuracy: 0.133333\n",
      "Epoch 2, loss: 2.280932, train accuracy: 0.200000, val accuracy: 0.133333\n",
      "Epoch 3, loss: 2.222795, train accuracy: 0.266667, val accuracy: 0.000000\n",
      "Epoch 4, loss: 2.137591, train accuracy: 0.333333, val accuracy: 0.133333\n",
      "Epoch 5, loss: 1.955319, train accuracy: 0.400000, val accuracy: 0.000000\n",
      "Epoch 6, loss: 1.893873, train accuracy: 0.466667, val accuracy: 0.000000\n",
      "Epoch 7, loss: 1.801608, train accuracy: 0.400000, val accuracy: 0.000000\n",
      "Epoch 8, loss: 1.505319, train accuracy: 0.466667, val accuracy: 0.066667\n",
      "Epoch 9, loss: 1.742317, train accuracy: 0.533333, val accuracy: 0.000000\n",
      "Epoch 10, loss: 1.222721, train accuracy: 0.600000, val accuracy: 0.066667\n",
      "Epoch 11, loss: 1.065995, train accuracy: 0.733333, val accuracy: 0.000000\n",
      "Epoch 12, loss: 0.757859, train accuracy: 0.933333, val accuracy: 0.066667\n",
      "Epoch 13, loss: 0.597623, train accuracy: 1.000000, val accuracy: 0.000000\n",
      "Epoch 14, loss: 0.306036, train accuracy: 1.000000, val accuracy: 0.000000\n",
      "Epoch 15, loss: 0.266402, train accuracy: 1.000000, val accuracy: 0.000000\n",
      "Epoch 16, loss: 0.276980, train accuracy: 1.000000, val accuracy: 0.000000\n",
      "Epoch 17, loss: 0.282811, train accuracy: 1.000000, val accuracy: 0.000000\n",
      "Epoch 18, loss: 0.289997, train accuracy: 1.000000, val accuracy: 0.000000\n",
      "Epoch 19, loss: 0.291600, train accuracy: 1.000000, val accuracy: 0.000000\n",
      "Epoch 20, loss: 0.288924, train accuracy: 1.000000, val accuracy: 0.000000\n"
     ]
    }
   ],
   "source": [
    "# Now, tweak some hyper parameters and make it train to 1.0 accuracy in 20 epochs or less\n",
    "\n",
    "model = TwoLayerNet(n_input = train_X.shape[1], n_output = 10, hidden_layer_size = 100, reg = 1e-2)\n",
    "dataset = Dataset(train_X[:data_size], train_y[:data_size], val_X[:data_size], val_y[:data_size])\n",
    "# TODO: Change any hyperparamers or optimizators to reach training accuracy in 20 epochs\n",
    "# Done\n",
    "trainer = Trainer(model, dataset, MomentumSGD(momentum=0.9), learning_rate=1e-1, num_epochs=20, batch_size=5)\n",
    "\n",
    "loss_history, train_history, val_history = trainer.fit()"
   ]
  },
  {
   "cell_type": "markdown",
   "metadata": {},
   "source": [
    "# Итак, основное мероприятие!\n",
    "\n",
    "Натренируйте лучшую нейросеть! Можно добавлять и изменять параметры, менять количество нейронов в слоях сети и как угодно экспериментировать. \n",
    "\n",
    "Добейтесь точности лучше **60%** на validation set."
   ]
  },
  {
   "cell_type": "code",
   "execution_count": 62,
   "metadata": {
    "scrolled": true
   },
   "outputs": [
    {
     "name": "stdout",
     "output_type": "stream",
     "text": [
      "Training model with hidden layer size 64, reg strength 0.010000, and learning rate 0.100000\n",
      "Epoch 1, loss: 2.308749, train accuracy: 0.200000, val accuracy: 0.133333\n",
      "Epoch 2, loss: 2.274842, train accuracy: 0.200000, val accuracy: 0.133333\n",
      "Epoch 3, loss: 2.249555, train accuracy: 0.266667, val accuracy: 0.000000\n",
      "Epoch 4, loss: 2.150095, train accuracy: 0.266667, val accuracy: 0.000000\n",
      "Epoch 5, loss: 2.059108, train accuracy: 0.400000, val accuracy: 0.000000\n",
      "Epoch 6, loss: 1.707764, train accuracy: 0.466667, val accuracy: 0.000000\n",
      "Epoch 7, loss: 1.899362, train accuracy: 0.400000, val accuracy: 0.133333\n",
      "Epoch 8, loss: 1.835277, train accuracy: 0.466667, val accuracy: 0.000000\n",
      "Epoch 9, loss: 1.716166, train accuracy: 0.400000, val accuracy: 0.000000\n",
      "Epoch 10, loss: 2.796849, train accuracy: 0.400000, val accuracy: 0.133333\n",
      "Epoch 11, loss: 2.503142, train accuracy: 0.666667, val accuracy: 0.066667\n",
      "Epoch 12, loss: 0.964378, train accuracy: 0.866667, val accuracy: 0.000000\n",
      "Epoch 13, loss: 0.881310, train accuracy: 0.866667, val accuracy: 0.000000\n",
      "Epoch 14, loss: 2.226331, train accuracy: 0.800000, val accuracy: 0.000000\n",
      "Epoch 15, loss: 1.106018, train accuracy: 0.866667, val accuracy: 0.000000\n",
      "Epoch 16, loss: 1.199411, train accuracy: 0.933333, val accuracy: 0.000000\n",
      "Epoch 17, loss: 0.992763, train accuracy: 0.866667, val accuracy: 0.066667\n",
      "Epoch 18, loss: 3.914950, train accuracy: 0.866667, val accuracy: 0.066667\n",
      "Epoch 19, loss: 3.192394, train accuracy: 0.933333, val accuracy: 0.066667\n",
      "Epoch 20, loss: 1.636060, train accuracy: 0.866667, val accuracy: 0.066667\n",
      "Validation accuracy: 0.066667\n",
      "Training model with hidden layer size 64, reg strength 0.010000, and learning rate 0.050000\n",
      "Epoch 1, loss: 2.304204, train accuracy: 0.200000, val accuracy: 0.066667\n",
      "Epoch 2, loss: 2.290657, train accuracy: 0.200000, val accuracy: 0.066667\n",
      "Epoch 3, loss: 2.269613, train accuracy: 0.200000, val accuracy: 0.066667\n",
      "Epoch 4, loss: 2.237011, train accuracy: 0.200000, val accuracy: 0.066667\n",
      "Epoch 5, loss: 2.202137, train accuracy: 0.266667, val accuracy: 0.000000\n",
      "Epoch 6, loss: 2.124961, train accuracy: 0.400000, val accuracy: 0.000000\n",
      "Epoch 7, loss: 1.979571, train accuracy: 0.400000, val accuracy: 0.000000\n",
      "Epoch 8, loss: 1.786904, train accuracy: 0.400000, val accuracy: 0.000000\n",
      "Epoch 9, loss: 1.730899, train accuracy: 0.333333, val accuracy: 0.066667\n",
      "Epoch 10, loss: 1.824011, train accuracy: 0.400000, val accuracy: 0.066667\n",
      "Epoch 11, loss: 1.533326, train accuracy: 0.466667, val accuracy: 0.066667\n",
      "Epoch 12, loss: 1.437890, train accuracy: 0.400000, val accuracy: 0.000000\n",
      "Epoch 13, loss: 1.319922, train accuracy: 0.466667, val accuracy: 0.066667\n",
      "Epoch 14, loss: 1.169958, train accuracy: 0.666667, val accuracy: 0.066667\n",
      "Epoch 15, loss: 0.974599, train accuracy: 0.666667, val accuracy: 0.066667\n",
      "Epoch 16, loss: 0.787559, train accuracy: 0.733333, val accuracy: 0.066667\n",
      "Epoch 17, loss: 0.669850, train accuracy: 0.800000, val accuracy: 0.000000\n",
      "Epoch 18, loss: 0.594914, train accuracy: 0.866667, val accuracy: 0.000000\n",
      "Epoch 19, loss: 0.514632, train accuracy: 0.933333, val accuracy: 0.000000\n",
      "Epoch 20, loss: 0.412383, train accuracy: 0.933333, val accuracy: 0.000000\n",
      "Validation accuracy: 0.000000\n",
      "Training model with hidden layer size 64, reg strength 0.100000, and learning rate 0.100000\n",
      "Epoch 1, loss: 2.316620, train accuracy: 0.200000, val accuracy: 0.133333\n",
      "Epoch 2, loss: 2.290790, train accuracy: 0.200000, val accuracy: 0.133333\n",
      "Epoch 3, loss: 2.255476, train accuracy: 0.200000, val accuracy: 0.133333\n",
      "Epoch 4, loss: 2.205548, train accuracy: 0.333333, val accuracy: 0.133333\n",
      "Epoch 5, loss: 2.213091, train accuracy: 0.333333, val accuracy: 0.066667\n",
      "Epoch 6, loss: 1.920012, train accuracy: 0.333333, val accuracy: 0.066667\n",
      "Epoch 7, loss: 1.980284, train accuracy: 0.466667, val accuracy: 0.066667\n",
      "Epoch 8, loss: 1.820828, train accuracy: 0.333333, val accuracy: 0.133333\n",
      "Epoch 9, loss: 1.765561, train accuracy: 0.400000, val accuracy: 0.000000\n",
      "Epoch 10, loss: 1.565002, train accuracy: 0.600000, val accuracy: 0.000000\n",
      "Epoch 11, loss: 1.492664, train accuracy: 0.733333, val accuracy: 0.000000\n",
      "Epoch 12, loss: 1.494492, train accuracy: 0.800000, val accuracy: 0.066667\n",
      "Epoch 13, loss: 1.306180, train accuracy: 0.866667, val accuracy: 0.000000\n",
      "Epoch 14, loss: 1.220718, train accuracy: 0.933333, val accuracy: 0.066667\n",
      "Epoch 15, loss: 1.149373, train accuracy: 0.933333, val accuracy: 0.066667\n",
      "Epoch 16, loss: 1.104508, train accuracy: 1.000000, val accuracy: 0.000000\n",
      "Epoch 17, loss: 0.981245, train accuracy: 1.000000, val accuracy: 0.000000\n",
      "Epoch 18, loss: 0.901398, train accuracy: 1.000000, val accuracy: 0.000000\n",
      "Epoch 19, loss: 0.910413, train accuracy: 1.000000, val accuracy: 0.000000\n",
      "Epoch 20, loss: 0.862125, train accuracy: 0.933333, val accuracy: 0.000000\n",
      "Validation accuracy: 0.000000\n",
      "Training model with hidden layer size 64, reg strength 0.100000, and learning rate 0.050000\n",
      "Epoch 1, loss: 2.313384, train accuracy: 0.200000, val accuracy: 0.133333\n",
      "Epoch 2, loss: 2.297419, train accuracy: 0.200000, val accuracy: 0.133333\n",
      "Epoch 3, loss: 2.273808, train accuracy: 0.200000, val accuracy: 0.133333\n",
      "Epoch 4, loss: 2.255394, train accuracy: 0.200000, val accuracy: 0.133333\n",
      "Epoch 5, loss: 2.230968, train accuracy: 0.200000, val accuracy: 0.133333\n",
      "Epoch 6, loss: 2.174135, train accuracy: 0.333333, val accuracy: 0.066667\n",
      "Epoch 7, loss: 2.033528, train accuracy: 0.333333, val accuracy: 0.066667\n",
      "Epoch 8, loss: 1.875793, train accuracy: 0.400000, val accuracy: 0.000000\n",
      "Epoch 9, loss: 1.755474, train accuracy: 0.400000, val accuracy: 0.000000\n",
      "Epoch 10, loss: 1.722723, train accuracy: 0.400000, val accuracy: 0.000000\n",
      "Epoch 11, loss: 1.635475, train accuracy: 0.400000, val accuracy: 0.133333\n",
      "Epoch 12, loss: 1.660744, train accuracy: 0.466667, val accuracy: 0.066667\n",
      "Epoch 13, loss: 1.556563, train accuracy: 0.600000, val accuracy: 0.000000\n",
      "Epoch 14, loss: 1.480739, train accuracy: 0.600000, val accuracy: 0.066667\n",
      "Epoch 15, loss: 1.413877, train accuracy: 0.666667, val accuracy: 0.133333\n",
      "Epoch 16, loss: 1.324087, train accuracy: 0.666667, val accuracy: 0.066667\n",
      "Epoch 17, loss: 1.271309, train accuracy: 0.800000, val accuracy: 0.066667\n",
      "Epoch 18, loss: 1.223612, train accuracy: 0.800000, val accuracy: 0.133333\n",
      "Epoch 19, loss: 1.160384, train accuracy: 0.866667, val accuracy: 0.066667\n",
      "Epoch 20, loss: 1.115920, train accuracy: 0.866667, val accuracy: 0.066667\n",
      "Validation accuracy: 0.066667\n",
      "Training model with hidden layer size 128, reg strength 0.010000, and learning rate 0.100000\n",
      "Epoch 1, loss: 2.308036, train accuracy: 0.200000, val accuracy: 0.133333\n",
      "Epoch 2, loss: 2.281793, train accuracy: 0.200000, val accuracy: 0.133333\n",
      "Epoch 3, loss: 2.218254, train accuracy: 0.200000, val accuracy: 0.133333\n",
      "Epoch 4, loss: 2.114028, train accuracy: 0.333333, val accuracy: 0.066667\n",
      "Epoch 5, loss: 1.826766, train accuracy: 0.400000, val accuracy: 0.000000\n",
      "Epoch 6, loss: 1.795513, train accuracy: 0.466667, val accuracy: 0.000000\n",
      "Epoch 7, loss: 1.725011, train accuracy: 0.400000, val accuracy: 0.133333\n",
      "Epoch 8, loss: 1.446884, train accuracy: 0.533333, val accuracy: 0.000000\n",
      "Epoch 9, loss: 1.346727, train accuracy: 0.600000, val accuracy: 0.000000\n",
      "Epoch 10, loss: 0.969892, train accuracy: 0.733333, val accuracy: 0.066667\n",
      "Epoch 11, loss: 0.706348, train accuracy: 0.733333, val accuracy: 0.066667\n",
      "Epoch 12, loss: 0.596912, train accuracy: 0.933333, val accuracy: 0.000000\n",
      "Epoch 13, loss: 0.491389, train accuracy: 1.000000, val accuracy: 0.000000\n",
      "Epoch 14, loss: 0.340050, train accuracy: 1.000000, val accuracy: 0.000000\n",
      "Epoch 15, loss: 0.285489, train accuracy: 1.000000, val accuracy: 0.000000\n",
      "Epoch 16, loss: 0.286629, train accuracy: 1.000000, val accuracy: 0.000000\n",
      "Epoch 17, loss: 0.271565, train accuracy: 1.000000, val accuracy: 0.000000\n",
      "Epoch 18, loss: 0.272906, train accuracy: 1.000000, val accuracy: 0.000000\n",
      "Epoch 19, loss: 0.262409, train accuracy: 1.000000, val accuracy: 0.000000\n",
      "Epoch 20, loss: 0.257122, train accuracy: 1.000000, val accuracy: 0.000000\n",
      "Validation accuracy: 0.000000\n",
      "Training model with hidden layer size 128, reg strength 0.010000, and learning rate 0.050000\n",
      "Epoch 1, loss: 2.304923, train accuracy: 0.200000, val accuracy: 0.133333\n",
      "Epoch 2, loss: 2.295595, train accuracy: 0.200000, val accuracy: 0.133333\n",
      "Epoch 3, loss: 2.269549, train accuracy: 0.200000, val accuracy: 0.133333\n"
     ]
    },
    {
     "name": "stdout",
     "output_type": "stream",
     "text": [
      "Epoch 4, loss: 2.231770, train accuracy: 0.200000, val accuracy: 0.000000\n",
      "Epoch 5, loss: 2.176199, train accuracy: 0.400000, val accuracy: 0.000000\n",
      "Epoch 6, loss: 2.089047, train accuracy: 0.333333, val accuracy: 0.066667\n",
      "Epoch 7, loss: 1.817246, train accuracy: 0.400000, val accuracy: 0.000000\n",
      "Epoch 8, loss: 1.647119, train accuracy: 0.400000, val accuracy: 0.000000\n",
      "Epoch 9, loss: 1.598977, train accuracy: 0.466667, val accuracy: 0.066667\n",
      "Epoch 10, loss: 1.576069, train accuracy: 0.466667, val accuracy: 0.066667\n",
      "Epoch 11, loss: 1.447866, train accuracy: 0.600000, val accuracy: 0.000000\n",
      "Epoch 12, loss: 1.467372, train accuracy: 0.533333, val accuracy: 0.000000\n",
      "Epoch 13, loss: 1.113292, train accuracy: 0.733333, val accuracy: 0.066667\n",
      "Epoch 14, loss: 1.094173, train accuracy: 0.733333, val accuracy: 0.066667\n",
      "Epoch 15, loss: 0.839672, train accuracy: 0.733333, val accuracy: 0.066667\n",
      "Epoch 16, loss: 0.760332, train accuracy: 0.733333, val accuracy: 0.000000\n",
      "Epoch 17, loss: 0.669198, train accuracy: 0.933333, val accuracy: 0.000000\n",
      "Epoch 18, loss: 0.511377, train accuracy: 1.000000, val accuracy: 0.000000\n",
      "Epoch 19, loss: 0.473198, train accuracy: 1.000000, val accuracy: 0.000000\n",
      "Epoch 20, loss: 0.362256, train accuracy: 0.933333, val accuracy: 0.000000\n",
      "Validation accuracy: 0.000000\n",
      "Training model with hidden layer size 128, reg strength 0.100000, and learning rate 0.100000\n",
      "Epoch 1, loss: 2.323321, train accuracy: 0.200000, val accuracy: 0.133333\n",
      "Epoch 2, loss: 2.299600, train accuracy: 0.200000, val accuracy: 0.133333\n",
      "Epoch 3, loss: 2.262335, train accuracy: 0.200000, val accuracy: 0.133333\n",
      "Epoch 4, loss: 2.201573, train accuracy: 0.200000, val accuracy: 0.133333\n",
      "Epoch 5, loss: 2.065473, train accuracy: 0.400000, val accuracy: 0.000000\n",
      "Epoch 6, loss: 1.723644, train accuracy: 0.333333, val accuracy: 0.000000\n",
      "Epoch 7, loss: 1.877470, train accuracy: 0.466667, val accuracy: 0.066667\n",
      "Epoch 8, loss: 1.598379, train accuracy: 0.533333, val accuracy: 0.133333\n",
      "Epoch 9, loss: 1.836491, train accuracy: 0.600000, val accuracy: 0.066667\n",
      "Epoch 10, loss: 1.527390, train accuracy: 0.666667, val accuracy: 0.000000\n",
      "Epoch 11, loss: 1.417692, train accuracy: 0.733333, val accuracy: 0.000000\n",
      "Epoch 12, loss: 1.416777, train accuracy: 0.733333, val accuracy: 0.000000\n",
      "Epoch 13, loss: 1.372441, train accuracy: 0.933333, val accuracy: 0.000000\n",
      "Epoch 14, loss: 1.284029, train accuracy: 0.933333, val accuracy: 0.000000\n",
      "Epoch 15, loss: 1.136080, train accuracy: 1.000000, val accuracy: 0.000000\n",
      "Epoch 16, loss: 1.038311, train accuracy: 1.000000, val accuracy: 0.000000\n",
      "Epoch 17, loss: 1.036643, train accuracy: 1.000000, val accuracy: 0.000000\n",
      "Epoch 18, loss: 1.292608, train accuracy: 1.000000, val accuracy: 0.000000\n",
      "Epoch 19, loss: 1.118276, train accuracy: 0.866667, val accuracy: 0.000000\n",
      "Epoch 20, loss: 1.403588, train accuracy: 0.933333, val accuracy: 0.000000\n",
      "Validation accuracy: 0.000000\n",
      "Training model with hidden layer size 128, reg strength 0.100000, and learning rate 0.050000\n",
      "Epoch 1, loss: 2.321452, train accuracy: 0.200000, val accuracy: 0.133333\n",
      "Epoch 2, loss: 2.311418, train accuracy: 0.200000, val accuracy: 0.133333\n",
      "Epoch 3, loss: 2.286098, train accuracy: 0.200000, val accuracy: 0.133333\n",
      "Epoch 4, loss: 2.254878, train accuracy: 0.200000, val accuracy: 0.133333\n",
      "Epoch 5, loss: 2.220490, train accuracy: 0.200000, val accuracy: 0.133333\n",
      "Epoch 6, loss: 2.120907, train accuracy: 0.333333, val accuracy: 0.133333\n",
      "Epoch 7, loss: 2.011873, train accuracy: 0.400000, val accuracy: 0.000000\n",
      "Epoch 8, loss: 1.875996, train accuracy: 0.400000, val accuracy: 0.000000\n",
      "Epoch 9, loss: 1.685807, train accuracy: 0.400000, val accuracy: 0.066667\n",
      "Epoch 10, loss: 1.997748, train accuracy: 0.466667, val accuracy: 0.066667\n",
      "Epoch 11, loss: 1.742705, train accuracy: 0.466667, val accuracy: 0.000000\n",
      "Epoch 12, loss: 1.638196, train accuracy: 0.466667, val accuracy: 0.066667\n",
      "Epoch 13, loss: 1.567128, train accuracy: 0.600000, val accuracy: 0.000000\n",
      "Epoch 14, loss: 1.457373, train accuracy: 0.600000, val accuracy: 0.000000\n",
      "Epoch 15, loss: 1.362178, train accuracy: 0.733333, val accuracy: 0.066667\n",
      "Epoch 16, loss: 1.243365, train accuracy: 0.733333, val accuracy: 0.000000\n",
      "Epoch 17, loss: 1.178705, train accuracy: 0.800000, val accuracy: 0.066667\n",
      "Epoch 18, loss: 1.155858, train accuracy: 0.866667, val accuracy: 0.066667\n",
      "Epoch 19, loss: 1.077775, train accuracy: 0.933333, val accuracy: 0.066667\n",
      "Epoch 20, loss: 1.093827, train accuracy: 0.933333, val accuracy: 0.066667\n",
      "Validation accuracy: 0.066667\n",
      "Best validation accuracy achieved: 0.066667\n"
     ]
    }
   ],
   "source": [
    "best_classifier = None\n",
    "best_val_accuracy = None\n",
    "\n",
    "hidden_layer_sizes = [64, 128]\n",
    "reg_strengths = [1e-2, 1e-1]\n",
    "learning_rates = [1e-1, .5e-1]\n",
    "\n",
    "for hl_size in hidden_layer_sizes:\n",
    "    for reg in reg_strengths:\n",
    "        for lr in learning_rates:\n",
    "            print('Training model with hidden layer size %d, reg strength %f, and learning rate %f' % (hl_size, reg, lr))\n",
    "            model = TwoLayerNet(n_input=train_X.shape[1], n_output=10, hidden_layer_size=hl_size, reg=reg)\n",
    "            dataset = Dataset(train_X[:data_size], train_y[:data_size], val_X[:data_size], val_y[:data_size])\n",
    "            trainer = Trainer(model, dataset, MomentumSGD(momentum=0.9), learning_rate=lr, num_epochs=20, batch_size=5)\n",
    "            loss_history, train_history, val_history = trainer.fit()\n",
    "            val_accuracy = val_history[-1]\n",
    "            print('Validation accuracy: %f' % val_accuracy)\n",
    "            if best_val_accuracy is None or val_accuracy > best_val_accuracy:\n",
    "                best_val_accuracy = val_accuracy\n",
    "                best_classifier = model\n",
    "                loss_history_best = loss_history\n",
    "                train_history_best = train_history\n",
    "                val_history_best = val_history\n",
    "\n",
    "print('Best validation accuracy achieved: %f' % best_val_accuracy)\n"
   ]
  },
  {
   "cell_type": "code",
   "execution_count": 63,
   "metadata": {},
   "outputs": [
    {
     "data": {
      "text/plain": [
       "[<matplotlib.lines.Line2D at 0x112ff6a30>]"
      ]
     },
     "execution_count": 63,
     "metadata": {},
     "output_type": "execute_result"
    },
    {
     "data": {
      "image/png": "[encoded data removed]",
      "text/plain": [
       "<Figure size 1080x504 with 2 Axes>"
      ]
     },
     "metadata": {
      "needs_background": "light"
     },
     "output_type": "display_data"
    }
   ],
   "source": [
    "plt.figure(figsize=(15, 7))\n",
    "plt.subplot(211)\n",
    "plt.title(\"Loss\")\n",
    "plt.plot(loss_history)\n",
    "plt.subplot(212)\n",
    "plt.title(\"Train/validation accuracy\")\n",
    "plt.plot(train_history)\n",
    "plt.plot(val_history)"
   ]
  },
  {
   "cell_type": "markdown",
   "metadata": {},
   "source": [
    "# Как обычно, посмотрим, как наша лучшая модель работает на тестовых данных"
   ]
  },
  {
   "cell_type": "code",
   "execution_count": 64,
   "metadata": {},
   "outputs": [
    {
     "name": "stdout",
     "output_type": "stream",
     "text": [
      "Neural net test set accuracy: 0.122000\n"
     ]
    }
   ],
   "source": [
    "test_pred = best_classifier.predict(test_X)\n",
    "test_accuracy = multiclass_accuracy(test_pred, test_y)\n",
    "print('Neural net test set accuracy: %f' % (test_accuracy, ))"
   ]
  },
  {
   "cell_type": "code",
   "execution_count": null,
   "metadata": {},
   "outputs": [],
   "source": []
  }
 ],
 "metadata": {
  "kernelspec": {
   "display_name": "Python 3 (ipykernel)",
   "language": "python",
   "name": "python3"
  },
  "language_info": {
   "codemirror_mode": {
    "name": "ipython",
    "version": 3
   },
   "file_extension": ".py",
   "mimetype": "text/x-python",
   "name": "python",
   "nbconvert_exporter": "python",
   "pygments_lexer": "ipython3",
   "version": "3.9.16"
  }
 },
 "nbformat": 4,
 "nbformat_minor": 2
}
